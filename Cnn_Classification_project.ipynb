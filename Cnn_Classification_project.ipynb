{
  "nbformat": 4,
  "nbformat_minor": 0,
  "metadata": {
    "colab": {
      "provenance": [],
      "gpuType": "T4",
      "include_colab_link": true
    },
    "kernelspec": {
      "name": "python3",
      "display_name": "Python 3"
    },
    "language_info": {
      "name": "python"
    },
    "accelerator": "GPU"
  },
  "cells": [
    {
      "cell_type": "markdown",
      "metadata": {
        "id": "view-in-github",
        "colab_type": "text"
      },
      "source": [
        "<a href=\"https://colab.research.google.com/github/shekhar-banerjee96/dogsvscats/blob/master/Cnn_Classification_project.ipynb\" target=\"_parent\"><img src=\"https://colab.research.google.com/assets/colab-badge.svg\" alt=\"Open In Colab\"/></a>"
      ]
    },
    {
      "cell_type": "code",
      "execution_count": 1,
      "metadata": {
        "id": "v6YWAGJQV9EN"
      },
      "outputs": [],
      "source": [
        "import numpy as np\n",
        "import pandas as pd\n",
        "import matplotlib.pyplot as plt\n",
        "%matplotlib inline\n",
        "\n",
        "import seaborn as sns"
      ]
    },
    {
      "cell_type": "code",
      "source": [
        "!mkdir ~/.kaggle\n",
        "!cp kaggle.json ~/.kaggle/\n",
        "!chmod 600 ~/.kaggle/kaggle.json\n",
        "!kaggle datasets download -d salader/dogs-vs-cats"
      ],
      "metadata": {
        "colab": {
          "base_uri": "https://localhost:8080/"
        },
        "id": "cdIZ71AlXkwW",
        "outputId": "e4cf3f72-3521-40b5-e189-3f7fa34e7059"
      },
      "execution_count": 2,
      "outputs": [
        {
          "output_type": "stream",
          "name": "stdout",
          "text": [
            "Downloading dogs-vs-cats.zip to /content\n",
            " 99% 1.05G/1.06G [00:05<00:00, 231MB/s]\n",
            "100% 1.06G/1.06G [00:05<00:00, 223MB/s]\n"
          ]
        }
      ]
    },
    {
      "cell_type": "code",
      "source": [
        "import zipfile\n",
        "with zipfile.ZipFile('/content/dogs-vs-cats.zip', 'r') as zip_ref:\n",
        "    zip_ref.extractall('/content/')\n"
      ],
      "metadata": {
        "id": "88__sG41X_Va"
      },
      "execution_count": 3,
      "outputs": []
    },
    {
      "cell_type": "code",
      "source": [
        "import tensorflow as tf\n",
        "from tensorflow import keras\n",
        "from keras import Sequential\n",
        "from keras.layers import Dense , Conv2D , MaxPooling2D , Flatten , BatchNormalization , Dropout"
      ],
      "metadata": {
        "id": "oCAbRLMxYQlx"
      },
      "execution_count": 4,
      "outputs": []
    },
    {
      "cell_type": "markdown",
      "source": [
        "### Generators - divide data in Batches , which get imported one by one and processed"
      ],
      "metadata": {
        "id": "QlMBgFRXzetd"
      }
    },
    {
      "cell_type": "code",
      "source": [
        "train_dataset = keras.utils.image_dataset_from_directory(\n",
        "    directory = '/content/train' ,\n",
        "    labels = 'inferred' ,\n",
        "    label_mode = 'int' ,\n",
        "    batch_size = 32 ,\n",
        "    image_size = (256,256)\n",
        ")\n",
        "\n",
        "validation_dataset = keras.utils.image_dataset_from_directory(\n",
        "    directory = '/content/test' ,\n",
        "    labels = 'inferred' ,\n",
        "    label_mode = 'int' ,\n",
        "    batch_size = 32 ,\n",
        "    image_size = (256,256)\n",
        ")"
      ],
      "metadata": {
        "colab": {
          "base_uri": "https://localhost:8080/"
        },
        "id": "UkiShba1zBH7",
        "outputId": "ebc78724-bb24-4b31-a77b-2e97287a88b9"
      },
      "execution_count": 5,
      "outputs": [
        {
          "output_type": "stream",
          "name": "stdout",
          "text": [
            "Found 20000 files belonging to 2 classes.\n",
            "Found 5000 files belonging to 2 classes.\n"
          ]
        }
      ]
    },
    {
      "cell_type": "code",
      "source": [
        "def process(image,label):\n",
        "  image = tf.cast(image/255 , tf.float32)\n",
        "  return image , label\n",
        "\n",
        "train_ds = train_dataset.map(process)\n",
        "validation_ds = validation_dataset.map(process)\n"
      ],
      "metadata": {
        "id": "IO1ioG5Z0z_E"
      },
      "execution_count": 6,
      "outputs": []
    },
    {
      "cell_type": "code",
      "source": [
        "# create CNN Model\n",
        "\n",
        "model = Sequential()\n",
        "\n",
        "\n",
        "model.add(Conv2D(128,kernel_size=(3,3),padding ='valid',activation = 'relu',input_shape = (256,256,3)))\n",
        "model.add(BatchNormalization())\n",
        "model.add(MaxPooling2D(pool_size=(2,2),strides=2,padding='valid'))\n",
        "\n",
        "model.add(Conv2D(64,kernel_size=(3,3),padding ='valid', activation = 'relu'))\n",
        "model.add(BatchNormalization())\n",
        "model.add(MaxPooling2D(pool_size=(2,2),strides=2,padding='valid'))\n",
        "\n",
        "model.add(Flatten())\n",
        "\n",
        "model.add(Dense(128,activation='relu'))\n",
        "model.add(Dropout(0.1))\n",
        "model.add(Dense(64,activation='relu'))\n",
        "model.add(Dropout(0.1))\n",
        "model.add(Dense(1,activation='sigmoid'))\n",
        "\n",
        "model.summary()"
      ],
      "metadata": {
        "colab": {
          "base_uri": "https://localhost:8080/"
        },
        "id": "lENmDE2Azc1K",
        "outputId": "6e580256-2be4-4a39-ad19-c9859b7abfac"
      },
      "execution_count": 7,
      "outputs": [
        {
          "output_type": "stream",
          "name": "stdout",
          "text": [
            "Model: \"sequential\"\n",
            "_________________________________________________________________\n",
            " Layer (type)                Output Shape              Param #   \n",
            "=================================================================\n",
            " conv2d (Conv2D)             (None, 254, 254, 128)     3584      \n",
            "                                                                 \n",
            " batch_normalization (Batch  (None, 254, 254, 128)     512       \n",
            " Normalization)                                                  \n",
            "                                                                 \n",
            " max_pooling2d (MaxPooling2  (None, 127, 127, 128)     0         \n",
            " D)                                                              \n",
            "                                                                 \n",
            " conv2d_1 (Conv2D)           (None, 125, 125, 64)      73792     \n",
            "                                                                 \n",
            " batch_normalization_1 (Bat  (None, 125, 125, 64)      256       \n",
            " chNormalization)                                                \n",
            "                                                                 \n",
            " max_pooling2d_1 (MaxPoolin  (None, 62, 62, 64)        0         \n",
            " g2D)                                                            \n",
            "                                                                 \n",
            " flatten (Flatten)           (None, 246016)            0         \n",
            "                                                                 \n",
            " dense (Dense)               (None, 128)               31490176  \n",
            "                                                                 \n",
            " dropout (Dropout)           (None, 128)               0         \n",
            "                                                                 \n",
            " dense_1 (Dense)             (None, 64)                8256      \n",
            "                                                                 \n",
            " dropout_1 (Dropout)         (None, 64)                0         \n",
            "                                                                 \n",
            " dense_2 (Dense)             (None, 1)                 65        \n",
            "                                                                 \n",
            "=================================================================\n",
            "Total params: 31576641 (120.46 MB)\n",
            "Trainable params: 31576257 (120.45 MB)\n",
            "Non-trainable params: 384 (1.50 KB)\n",
            "_________________________________________________________________\n"
          ]
        }
      ]
    },
    {
      "cell_type": "code",
      "source": [
        "model.compile(optimizer='adam',loss = 'binary_crossentropy',metrics=['accuracy'])"
      ],
      "metadata": {
        "id": "EueR_fkI5k-L"
      },
      "execution_count": 8,
      "outputs": []
    },
    {
      "cell_type": "code",
      "source": [
        "history1 = model.fit(train_dataset,epochs=10,validation_data=validation_dataset)"
      ],
      "metadata": {
        "colab": {
          "base_uri": "https://localhost:8080/"
        },
        "id": "yltMRs2n57Lh",
        "outputId": "d85ce25a-763f-4fa4-b75c-567209cb7565"
      },
      "execution_count": 9,
      "outputs": [
        {
          "output_type": "stream",
          "name": "stdout",
          "text": [
            "Epoch 1/10\n",
            "625/625 [==============================] - 142s 213ms/step - loss: 1.8860 - accuracy: 0.5680 - val_loss: 0.6492 - val_accuracy: 0.6324\n",
            "Epoch 2/10\n",
            "625/625 [==============================] - 134s 213ms/step - loss: 0.6584 - accuracy: 0.6366 - val_loss: 0.6127 - val_accuracy: 0.6962\n",
            "Epoch 3/10\n",
            "625/625 [==============================] - 134s 214ms/step - loss: 0.5846 - accuracy: 0.6923 - val_loss: 0.5516 - val_accuracy: 0.7200\n",
            "Epoch 4/10\n",
            "625/625 [==============================] - 134s 214ms/step - loss: 0.5493 - accuracy: 0.7230 - val_loss: 0.5549 - val_accuracy: 0.7252\n",
            "Epoch 5/10\n",
            "625/625 [==============================] - 136s 217ms/step - loss: 0.4902 - accuracy: 0.7592 - val_loss: 0.6323 - val_accuracy: 0.7098\n",
            "Epoch 6/10\n",
            "625/625 [==============================] - 136s 217ms/step - loss: 0.4553 - accuracy: 0.7866 - val_loss: 0.6178 - val_accuracy: 0.7138\n",
            "Epoch 7/10\n",
            "625/625 [==============================] - 134s 213ms/step - loss: 0.3810 - accuracy: 0.8242 - val_loss: 1.0802 - val_accuracy: 0.6980\n",
            "Epoch 8/10\n",
            "625/625 [==============================] - 134s 214ms/step - loss: 0.3189 - accuracy: 0.8619 - val_loss: 0.5862 - val_accuracy: 0.7668\n",
            "Epoch 9/10\n",
            "625/625 [==============================] - 134s 214ms/step - loss: 0.2460 - accuracy: 0.8963 - val_loss: 0.8346 - val_accuracy: 0.7436\n",
            "Epoch 10/10\n",
            "625/625 [==============================] - 134s 214ms/step - loss: 0.1887 - accuracy: 0.9266 - val_loss: 1.0645 - val_accuracy: 0.7244\n"
          ]
        }
      ]
    },
    {
      "cell_type": "code",
      "source": [
        "import matplotlib.pyplot as plt\n",
        "\n",
        "plt.plot(history1.history['accuracy'],color='red',label='train')\n",
        "plt.plot(history1.history['val_accuracy'],color='blue',label='validation')\n",
        "plt.legend()\n",
        "plt.show()"
      ],
      "metadata": {
        "colab": {
          "base_uri": "https://localhost:8080/",
          "height": 430
        },
        "id": "TLL0cmmmAIEQ",
        "outputId": "0aac9ab8-ce8a-415e-a58c-c182aed53d2b"
      },
      "execution_count": 11,
      "outputs": [
        {
          "output_type": "display_data",
          "data": {
            "text/plain": [
              "<Figure size 640x480 with 1 Axes>"
            ],
            "image/png": "[encoded data removed]"
          },
          "metadata": {}
        }
      ]
    },
    {
      "cell_type": "code",
      "source": [
        "plt.plot(history1.history['loss'],color='red',label='train')\n",
        "plt.plot(history1.history['val_loss'],color='blue',label='validation')\n",
        "plt.legend()\n",
        "plt.show()"
      ],
      "metadata": {
        "colab": {
          "base_uri": "https://localhost:8080/",
          "height": 430
        },
        "id": "xpYyZBTwBPCZ",
        "outputId": "5e44b723-bf5c-426f-c41c-f079bb792e7b"
      },
      "execution_count": 12,
      "outputs": [
        {
          "output_type": "display_data",
          "data": {
            "text/plain": [
              "<Figure size 640x480 with 1 Axes>"
            ],
            "image/png": "[encoded data removed]"
          },
          "metadata": {}
        }
      ]
    },
    {
      "cell_type": "code",
      "source": [],
      "metadata": {
        "id": "a2Fh0S-9BTea"
      },
      "execution_count": null,
      "outputs": []
    }
  ]
}